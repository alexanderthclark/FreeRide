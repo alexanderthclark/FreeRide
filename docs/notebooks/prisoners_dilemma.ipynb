{
 "cells": [
  {
   "cell_type": "markdown",
   "metadata": {},
   "source": [
    "# The Prisoner's Dilemma\n",
    "\n",
    "This tutorial demonstrates how to model and analyze the classic Prisoner's Dilemma using FreeRide.\n",
    "\n",
    "## Setup\n",
    "\n",
    "First, install FreeRide (if running in Colab):"
   ]
  },
  {
   "cell_type": "code",
   "execution_count": 1,
   "metadata": {
    "scrolled": true
   },
   "outputs": [
    {
     "name": "stdout",
     "output_type": "stream",
     "text": [
      "Requirement already satisfied: freeride in /Users/alexanderclark/Documents/GitHub/FreeRide (0.0.7)\n",
      "Requirement already satisfied: matplotlib in /Users/alexanderclark/anaconda3/lib/python3.11/site-packages (from freeride) (3.7.2)\n",
      "Requirement already satisfied: numpy in /Users/alexanderclark/anaconda3/lib/python3.11/site-packages (from freeride) (1.24.3)\n",
      "Requirement already satisfied: papermill in /Users/alexanderclark/anaconda3/lib/python3.11/site-packages (from freeride) (2.6.0)\n",
      "Requirement already satisfied: IPython in /Users/alexanderclark/anaconda3/lib/python3.11/site-packages (from freeride) (8.15.0)\n",
      "Requirement already satisfied: bokeh in /Users/alexanderclark/anaconda3/lib/python3.11/site-packages (from freeride) (3.3.4)\n",
      "Requirement already satisfied: Jinja2>=2.9 in /Users/alexanderclark/anaconda3/lib/python3.11/site-packages (from bokeh->freeride) (3.1.2)\n",
      "Requirement already satisfied: contourpy>=1 in /Users/alexanderclark/anaconda3/lib/python3.11/site-packages (from bokeh->freeride) (1.0.5)\n",
      "Requirement already satisfied: packaging>=16.8 in /Users/alexanderclark/anaconda3/lib/python3.11/site-packages (from bokeh->freeride) (23.1)\n",
      "Requirement already satisfied: pandas>=1.2 in /Users/alexanderclark/anaconda3/lib/python3.11/site-packages (from bokeh->freeride) (2.0.3)\n",
      "Requirement already satisfied: pillow>=7.1.0 in /Users/alexanderclark/anaconda3/lib/python3.11/site-packages (from bokeh->freeride) (10.0.1)\n",
      "Requirement already satisfied: PyYAML>=3.10 in /Users/alexanderclark/anaconda3/lib/python3.11/site-packages (from bokeh->freeride) (6.0)\n",
      "Requirement already satisfied: tornado>=5.1 in /Users/alexanderclark/anaconda3/lib/python3.11/site-packages (from bokeh->freeride) (6.3.2)\n",
      "Requirement already satisfied: xyzservices>=2021.09.1 in /Users/alexanderclark/anaconda3/lib/python3.11/site-packages (from bokeh->freeride) (2022.9.0)\n",
      "Requirement already satisfied: backcall in /Users/alexanderclark/anaconda3/lib/python3.11/site-packages (from IPython->freeride) (0.2.0)\n",
      "Requirement already satisfied: decorator in /Users/alexanderclark/anaconda3/lib/python3.11/site-packages (from IPython->freeride) (5.1.1)\n",
      "Requirement already satisfied: jedi>=0.16 in /Users/alexanderclark/anaconda3/lib/python3.11/site-packages (from IPython->freeride) (0.18.1)\n",
      "Requirement already satisfied: matplotlib-inline in /Users/alexanderclark/anaconda3/lib/python3.11/site-packages (from IPython->freeride) (0.1.6)\n",
      "Requirement already satisfied: pickleshare in /Users/alexanderclark/anaconda3/lib/python3.11/site-packages (from IPython->freeride) (0.7.5)\n",
      "Requirement already satisfied: prompt-toolkit!=3.0.37,<3.1.0,>=3.0.30 in /Users/alexanderclark/anaconda3/lib/python3.11/site-packages (from IPython->freeride) (3.0.36)\n",
      "Requirement already satisfied: pygments>=2.4.0 in /Users/alexanderclark/anaconda3/lib/python3.11/site-packages (from IPython->freeride) (2.18.0)\n",
      "Requirement already satisfied: stack-data in /Users/alexanderclark/anaconda3/lib/python3.11/site-packages (from IPython->freeride) (0.2.0)\n",
      "Requirement already satisfied: traitlets>=5 in /Users/alexanderclark/anaconda3/lib/python3.11/site-packages (from IPython->freeride) (5.7.1)\n",
      "Requirement already satisfied: pexpect>4.3 in /Users/alexanderclark/anaconda3/lib/python3.11/site-packages (from IPython->freeride) (4.8.0)\n",
      "Requirement already satisfied: appnope in /Users/alexanderclark/anaconda3/lib/python3.11/site-packages (from IPython->freeride) (0.1.2)\n",
      "Requirement already satisfied: cycler>=0.10 in /Users/alexanderclark/anaconda3/lib/python3.11/site-packages (from matplotlib->freeride) (0.11.0)\n",
      "Requirement already satisfied: fonttools>=4.22.0 in /Users/alexanderclark/anaconda3/lib/python3.11/site-packages (from matplotlib->freeride) (4.25.0)\n",
      "Requirement already satisfied: kiwisolver>=1.0.1 in /Users/alexanderclark/anaconda3/lib/python3.11/site-packages (from matplotlib->freeride) (1.4.4)\n",
      "Requirement already satisfied: pyparsing<3.1,>=2.3.1 in /Users/alexanderclark/anaconda3/lib/python3.11/site-packages (from matplotlib->freeride) (3.0.9)\n",
      "Requirement already satisfied: python-dateutil>=2.7 in /Users/alexanderclark/anaconda3/lib/python3.11/site-packages (from matplotlib->freeride) (2.8.2)\n",
      "Requirement already satisfied: click in /Users/alexanderclark/anaconda3/lib/python3.11/site-packages (from papermill->freeride) (8.0.4)\n",
      "Requirement already satisfied: nbformat>=5.2.0 in /Users/alexanderclark/anaconda3/lib/python3.11/site-packages (from papermill->freeride) (5.9.2)\n",
      "Requirement already satisfied: nbclient>=0.2.0 in /Users/alexanderclark/anaconda3/lib/python3.11/site-packages (from papermill->freeride) (0.5.13)\n",
      "Requirement already satisfied: tqdm>=4.32.2 in /Users/alexanderclark/anaconda3/lib/python3.11/site-packages (from papermill->freeride) (4.65.0)\n",
      "Requirement already satisfied: requests in /Users/alexanderclark/anaconda3/lib/python3.11/site-packages (from papermill->freeride) (2.31.0)\n",
      "Requirement already satisfied: entrypoints in /Users/alexanderclark/anaconda3/lib/python3.11/site-packages (from papermill->freeride) (0.4)\n",
      "Requirement already satisfied: tenacity>=5.0.2 in /Users/alexanderclark/anaconda3/lib/python3.11/site-packages (from papermill->freeride) (8.2.2)\n",
      "Requirement already satisfied: ansicolors in /Users/alexanderclark/anaconda3/lib/python3.11/site-packages (from papermill->freeride) (1.1.8)\n",
      "Requirement already satisfied: parso<0.9.0,>=0.8.0 in /Users/alexanderclark/anaconda3/lib/python3.11/site-packages (from jedi>=0.16->IPython->freeride) (0.8.3)\n",
      "Requirement already satisfied: MarkupSafe>=2.0 in /Users/alexanderclark/anaconda3/lib/python3.11/site-packages (from Jinja2>=2.9->bokeh->freeride) (2.1.1)\n",
      "Requirement already satisfied: jupyter-client>=6.1.5 in /Users/alexanderclark/anaconda3/lib/python3.11/site-packages (from nbclient>=0.2.0->papermill->freeride) (7.4.9)\n",
      "Requirement already satisfied: nest-asyncio in /Users/alexanderclark/anaconda3/lib/python3.11/site-packages (from nbclient>=0.2.0->papermill->freeride) (1.5.6)\n",
      "Requirement already satisfied: fastjsonschema in /Users/alexanderclark/anaconda3/lib/python3.11/site-packages (from nbformat>=5.2.0->papermill->freeride) (2.16.2)\n",
      "Requirement already satisfied: jsonschema>=2.6 in /Users/alexanderclark/anaconda3/lib/python3.11/site-packages (from nbformat>=5.2.0->papermill->freeride) (4.17.3)\n",
      "Requirement already satisfied: jupyter-core in /Users/alexanderclark/anaconda3/lib/python3.11/site-packages (from nbformat>=5.2.0->papermill->freeride) (5.3.0)\n",
      "Requirement already satisfied: pytz>=2020.1 in /Users/alexanderclark/anaconda3/lib/python3.11/site-packages (from pandas>=1.2->bokeh->freeride) (2023.3.post1)\n",
      "Requirement already satisfied: tzdata>=2022.1 in /Users/alexanderclark/anaconda3/lib/python3.11/site-packages (from pandas>=1.2->bokeh->freeride) (2023.3)\n",
      "Requirement already satisfied: ptyprocess>=0.5 in /Users/alexanderclark/anaconda3/lib/python3.11/site-packages (from pexpect>4.3->IPython->freeride) (0.7.0)\n",
      "Requirement already satisfied: wcwidth in /Users/alexanderclark/anaconda3/lib/python3.11/site-packages (from prompt-toolkit!=3.0.37,<3.1.0,>=3.0.30->IPython->freeride) (0.2.5)\n",
      "Requirement already satisfied: six>=1.5 in /Users/alexanderclark/anaconda3/lib/python3.11/site-packages (from python-dateutil>=2.7->matplotlib->freeride) (1.16.0)\n",
      "Requirement already satisfied: charset-normalizer<4,>=2 in /Users/alexanderclark/anaconda3/lib/python3.11/site-packages (from requests->papermill->freeride) (2.0.4)\n",
      "Requirement already satisfied: idna<4,>=2.5 in /Users/alexanderclark/anaconda3/lib/python3.11/site-packages (from requests->papermill->freeride) (3.4)\n",
      "Requirement already satisfied: urllib3<3,>=1.21.1 in /Users/alexanderclark/anaconda3/lib/python3.11/site-packages (from requests->papermill->freeride) (1.26.16)\n",
      "Requirement already satisfied: certifi>=2017.4.17 in /Users/alexanderclark/anaconda3/lib/python3.11/site-packages (from requests->papermill->freeride) (2023.11.17)\n",
      "Requirement already satisfied: executing in /Users/alexanderclark/anaconda3/lib/python3.11/site-packages (from stack-data->IPython->freeride) (0.8.3)\n",
      "Requirement already satisfied: asttokens in /Users/alexanderclark/anaconda3/lib/python3.11/site-packages (from stack-data->IPython->freeride) (2.0.5)\n",
      "Requirement already satisfied: pure-eval in /Users/alexanderclark/anaconda3/lib/python3.11/site-packages (from stack-data->IPython->freeride) (0.2.2)\n",
      "Requirement already satisfied: attrs>=17.4.0 in /Users/alexanderclark/anaconda3/lib/python3.11/site-packages (from jsonschema>=2.6->nbformat>=5.2.0->papermill->freeride) (22.1.0)\n",
      "Requirement already satisfied: pyrsistent!=0.17.0,!=0.17.1,!=0.17.2,>=0.14.0 in /Users/alexanderclark/anaconda3/lib/python3.11/site-packages (from jsonschema>=2.6->nbformat>=5.2.0->papermill->freeride) (0.18.0)\n",
      "Requirement already satisfied: pyzmq>=23.0 in /Users/alexanderclark/anaconda3/lib/python3.11/site-packages (from jupyter-client>=6.1.5->nbclient>=0.2.0->papermill->freeride) (23.2.0)\n"
     ]
    },
    {
     "name": "stdout",
     "output_type": "stream",
     "text": [
      "Requirement already satisfied: platformdirs>=2.5 in /Users/alexanderclark/anaconda3/lib/python3.11/site-packages (from jupyter-core->nbformat>=5.2.0->papermill->freeride) (3.10.0)\r\n"
     ]
    }
   ],
   "source": [
    "!pip install freeride"
   ]
  },
  {
   "cell_type": "code",
   "execution_count": 2,
   "metadata": {},
   "outputs": [
    {
     "name": "stdout",
     "output_type": "stream",
     "text": [
      "[(1, 1)]\n"
     ]
    },
    {
     "data": {
      "image/png": "[encoded data removed]",
      "text/plain": [
       "<Figure size 640x480 with 1 Axes>"
      ]
     },
     "metadata": {},
     "output_type": "display_data"
    }
   ],
   "source": [
    "from freeride.games import Game\n",
    "\n",
    "game = Game.prisoners_dilemma()\n",
    "ax = game.table()\n",
    "print(game.nash())"
   ]
  }
 ],
 "metadata": {
  "kernelspec": {
   "display_name": "Python 3 (ipykernel)",
   "language": "python",
   "name": "python3"
  },
  "language_info": {
   "codemirror_mode": {
    "name": "ipython",
    "version": 3
   },
   "file_extension": ".py",
   "mimetype": "text/x-python",
   "name": "python",
   "nbconvert_exporter": "python",
   "pygments_lexer": "ipython3",
   "version": "3.11.5"
  }
 },
 "nbformat": 4,
 "nbformat_minor": 4
}
