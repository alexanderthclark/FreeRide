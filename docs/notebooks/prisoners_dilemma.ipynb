{
 "cells": [
  {
   "cell_type": "markdown",
   "metadata": {},
   "source": [
    "# The Prisoner's Dilemma\n",
    "\n",
    "This tutorial demonstrates how to model and analyze the classic Prisoner's Dilemma using FreeRide.\n",
    "\n",
    "## Setup\n",
    "\n",
    "First, install FreeRide (if running in Colab):"
   ]
  },
  {
   "cell_type": "code",
   "metadata": {
    "scrolled": true
   },
   "outputs": [],
   "source": "!pip install freeride"
  },
  {
   "cell_type": "code",
   "metadata": {},
   "outputs": [],
   "source": "from freeride.games import Game\n\ngame = Game.prisoners_dilemma()\nax = game.table()\nprint(game.nash())"
  }
 ],
 "metadata": {
  "kernelspec": {
   "display_name": "Python 3 (ipykernel)",
   "language": "python",
   "name": "python3"
  },
  "language_info": {
   "codemirror_mode": {
    "name": "ipython",
    "version": 3
   },
   "file_extension": ".py",
   "mimetype": "text/x-python",
   "name": "python",
   "nbconvert_exporter": "python",
   "pygments_lexer": "ipython3",
   "version": "3.11.5"
  }
 },
 "nbformat": 4,
 "nbformat_minor": 4
}