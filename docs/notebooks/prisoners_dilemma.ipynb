{
 "cells": [
  {
   "cell_type": "markdown",
   "metadata": {},
   "source": [
    "# The Prisoner's Dilemma\n",
    "\n",
    "This tutorial demonstrates how to model and analyze the classic Prisoner's Dilemma using FreeRide.\n",
    "\n",
    "## Setup\n",
    "\n",
    "First, install FreeRide (if running in Colab):"
   ]
  },
  {
   "cell_type": "code",
   "execution_count": null,
   "metadata": {},
   "outputs": [],
   "source": [
    "# Install FreeRide (uncomment if running in Google Colab)\n",
    "# !pip install freeride\n",
    "\n",
    "from freeride.games import PrisonersDilemma\n",
    "\n",
    "# Create the classic Prisoner's Dilemma game\n",
    "# Payoffs: (cooperate, cooperate) = (3,3), (defect, defect) = (1,1)\n",
    "# (cooperate, defect) = (0,5), (defect, cooperate) = (5,0)\n",
    "game = PrisonersDilemma(cooperate_cooperate=(3, 3), \n",
    "                       defect_defect=(1, 1),\n",
    "                       cooperate_defect=(0, 5), \n",
    "                       defect_cooperate=(5, 0))\n",
    "\n",
    "# Display the game table\n",
    "print(\"Prisoner's Dilemma Payoff Matrix:\")\n",
    "print(game)\n",
    "\n",
    "# Find Nash equilibrium\n",
    "print(\"\\nNash Equilibrium:\")\n",
    "print(game.nash_equilibrium())"
   ]
  }
 ],
 "metadata": {
  "kernelspec": {
   "display_name": "Python 3",
   "language": "python",
   "name": "python3"
  },
  "language_info": {
   "codemirror_mode": {
    "name": "ipython",
    "version": 3
   },
   "file_extension": ".py",
   "mimetype": "text/x-python",
   "name": "python",
   "nbconvert_exporter": "python",
   "pygments_lexer": "ipython3",
   "version": "3.8.5"
  }
 },
 "nbformat": 4,
 "nbformat_minor": 4
}