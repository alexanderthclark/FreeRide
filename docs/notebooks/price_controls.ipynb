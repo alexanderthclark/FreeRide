{
 "cells": [
  {
   "cell_type": "markdown",
   "id": "intro",
   "metadata": {},
   "source": [
    "# Price Controls\n",
    "\n",
    "This tutorial demonstrates how to model and analyze price controls (ceilings and floors) using FreeRide.\n",
    "\n",
    "## Setup\n",
    "\n",
    "First, install FreeRide (if running in Colab):"
   ]
  },
  {
   "cell_type": "code",
   "execution_count": null,
   "id": "install",
   "metadata": {},
   "outputs": [],
   "source": [
    "!pip install freeride"
   ]
  },
  {
   "cell_type": "markdown",
   "id": "concept",
   "metadata": {},
   "source": [
    "## The Concept\n",
    "\n",
    "Price controls are government-imposed constraints on market prices:\n",
    "\n",
    "- **Price Ceiling**: A legal maximum price (e.g., rent control)\n",
    "- **Price Floor**: A legal minimum price (e.g., minimum wage)\n",
    "\n",
    "When binding, price controls create market distortions:\n",
    "- Binding ceilings (below equilibrium) create **shortages**\n",
    "- Binding floors (above equilibrium) create **surpluses**\n",
    "- Both generate **deadweight loss** by preventing mutually beneficial trades"
   ]
  },
  {
   "cell_type": "markdown",
   "id": "modeling",
   "metadata": {},
   "source": [
    "## Modeling with FreeRide\n",
    "\n",
    "Let's explore how price controls affect market outcomes:"
   ]
  },
  {
   "cell_type": "code",
   "execution_count": null,
   "id": "free-market",
   "metadata": {},
   "outputs": [],
   "source": [
    "from freeride.curves import Demand, Supply\n",
    "from freeride.equilibrium import Market\n",
    "\n",
    "# Create a market\n",
    "demand = Demand.from_formula(\"P = 20 - Q\")\n",
    "supply = Supply.from_formula(\"P = 5 + 0.5*Q\")\n",
    "\n",
    "# Find free market equilibrium\n",
    "free_market = Market(demand, supply)\n",
    "print(f\"Free Market Equilibrium: P = ${free_market.p:.2f}, Q = {free_market.q:.0f}\")\n",
    "print(f\"Total Surplus: ${free_market.total_surplus:.2f}\")"
   ]
  },
  {
   "cell_type": "markdown",
   "id": "ceilings",
   "metadata": {},
   "source": [
    "## Price Ceilings\n",
    "\n",
    "A binding price ceiling creates a shortage because quantity demanded exceeds quantity supplied:"
   ]
  },
  {
   "cell_type": "code",
   "execution_count": null,
   "id": "ceiling-analysis",
   "metadata": {},
   "outputs": [],
   "source": [
    "# Apply a binding price ceiling at $8\n",
    "ceiling_market = Market(demand, supply, ceiling=8)\n",
    "\n",
    "# Calculate shortage\n",
    "q_demanded = demand.q(8)\n",
    "q_supplied = supply.q(8)\n",
    "shortage = q_demanded - q_supplied\n",
    "\n",
    "print(f\"With Price Ceiling at $8:\")\n",
    "print(f\"  Quantity Supplied: {q_supplied:.0f}\")\n",
    "print(f\"  Quantity Demanded: {q_demanded:.0f}\")\n",
    "print(f\"  Shortage: {shortage:.0f} units\")\n",
    "print(f\"  Deadweight Loss: ${ceiling_market.dwl:.2f}\")"
   ]
  },
  {
   "cell_type": "code",
   "execution_count": null,
   "id": "ceiling-plot",
   "metadata": {},
   "outputs": [],
   "source": [
    "# Visualize the market with ceiling\n",
    "ceiling_market.plot(surplus=True)"
   ]
  },
  {
   "cell_type": "markdown",
   "id": "floors",
   "metadata": {},
   "source": [
    "## Price Floors\n",
    "\n",
    "A binding price floor creates a surplus because quantity supplied exceeds quantity demanded:"
   ]
  },
  {
   "cell_type": "code",
   "execution_count": null,
   "id": "floor-analysis",
   "metadata": {},
   "outputs": [],
   "source": [
    "# Apply a binding price floor at $12\n",
    "floor_market = Market(demand, supply, floor=12)\n",
    "\n",
    "# Calculate surplus\n",
    "q_demanded = demand.q(12)\n",
    "q_supplied = supply.q(12)\n",
    "surplus = q_supplied - q_demanded\n",
    "\n",
    "print(f\"With Price Floor at $12:\")\n",
    "print(f\"  Quantity Demanded: {q_demanded:.0f}\")\n",
    "print(f\"  Quantity Supplied: {q_supplied:.0f}\")\n",
    "print(f\"  Surplus: {surplus:.0f} units\")\n",
    "print(f\"  Deadweight Loss: ${floor_market.dwl:.2f}\")"
   ]
  },
  {
   "cell_type": "code",
   "execution_count": null,
   "id": "floor-plot",
   "metadata": {},
   "outputs": [],
   "source": [
    "# Visualize the market with floor\n",
    "floor_market.plot(surplus=True)"
   ]
  },
  {
   "cell_type": "markdown",
   "id": "non-binding",
   "metadata": {},
   "source": [
    "## Non-Binding Controls\n",
    "\n",
    "Price controls only affect the market when they're binding:"
   ]
  },
  {
   "cell_type": "code",
   "execution_count": null,
   "id": "non-binding-analysis",
   "metadata": {},
   "outputs": [],
   "source": [
    "# Non-binding ceiling (above equilibrium)\n",
    "high_ceiling = Market(demand, supply, ceiling=15)\n",
    "print(f\"Non-binding ceiling at $15: P = ${high_ceiling.p:.2f}, Q = {high_ceiling.q:.0f}\")\n",
    "\n",
    "# Non-binding floor (below equilibrium)\n",
    "low_floor = Market(demand, supply, floor=7)\n",
    "print(f\"Non-binding floor at $7: P = ${low_floor.p:.2f}, Q = {low_floor.q:.0f}\")\n",
    "\n",
    "# Both should equal free market equilibrium\n",
    "print(f\"Free market: P = ${free_market.p:.2f}, Q = {free_market.q:.0f}\")"
   ]
  }
 ],
 "metadata": {
  "kernelspec": {
   "display_name": "Python 3",
   "language": "python",
   "name": "python3"
  },
  "language_info": {
   "codemirror_mode": {
    "name": "ipython",
    "version": 3
   },
   "file_extension": ".py",
   "mimetype": "text/x-python",
   "name": "python",
   "nbconvert_exporter": "python",
   "pygments_lexer": "ipython3",
   "version": "3.8.0"
  }
 },
 "nbformat": 4,
 "nbformat_minor": 5
}