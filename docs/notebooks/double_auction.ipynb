{
 "cells": [
  {
   "cell_type": "markdown",
   "metadata": {},
   "source": [
    "# Double Auction\n",
    "\n",
    "This notebook demonstrates how to clear a simple double auction using FreeRide."
   ]
  },
  {
   "cell_type": "code",
   "execution_count": null,
   "metadata": {},
   "outputs": [],
   "source": "!pip install freeride"
  },
  {
   "cell_type": "code",
   "execution_count": null,
   "metadata": {},
   "outputs": [],
   "source": "from freeride.double_auction import UnitDemand, UnitSupply, DoubleAuction\n\nbuyers = [UnitDemand(10), UnitDemand(9)]\nsellers = [UnitSupply(6), UnitSupply(4)]\n\nauction = DoubleAuction(*buyers, *sellers)\nprint(auction)\nauction.plot()"
  }
 ],
 "metadata": {
  "kernelspec": {
   "display_name": "Python 3 (ipykernel)",
   "language": "python",
   "name": "python3"
  },
  "language_info": {
   "codemirror_mode": {
    "name": "ipython",
    "version": 3
   },
   "file_extension": ".py",
   "mimetype": "text/x-python",
   "name": "python",
   "nbconvert_exporter": "python",
   "pygments_lexer": "ipython3",
   "version": "3.11.5"
  }
 },
 "nbformat": 4,
 "nbformat_minor": 4
}
