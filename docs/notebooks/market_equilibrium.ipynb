{
 "cells": [
  {
   "cell_type": "markdown",
   "metadata": {},
   "source": [
    "# Market Equilibrium\n",
    "\n",
    "This tutorial demonstrates how to model and analyze market equilibrium using FreeRide.\n",
    "\n",
    "## Setup\n",
    "\n",
    "First, install FreeRide (if running in Colab):"
   ]
  },
  {
   "cell_type": "code",
   "execution_count": null,
   "metadata": {},
   "outputs": [],
   "source": [
    "!pip install freeride"
   ]
  },
  {
   "cell_type": "markdown",
   "metadata": {},
   "source": [
    "## Basic Market Equilibrium\n",
    "\n",
    "Let's create a simple market with linear demand and supply curves:"
   ]
  },
  {
   "cell_type": "code",
   "execution_count": null,
   "metadata": {},
   "outputs": [],
   "source": [
    "from freeride.curves import Demand, Supply\n",
    "from freeride.equilibrium import Market\n",
    "\n",
    "# Create demand: P = 10 - Q\n",
    "demand = Demand.from_formula(\"P = 10 - Q\")\n",
    "\n",
    "# Create supply: P = 2 + Q  \n",
    "supply = Supply.from_formula(\"P = 2 + Q\")\n",
    "\n",
    "# Find equilibrium\n",
    "market = Market(demand, supply)\n",
    "\n",
    "print(f\"Equilibrium: P = ${market.p:.2f}, Q = {market.q:.0f}\")\n",
    "print(f\"Consumer Surplus: ${market.consumer_surplus:.2f}\")\n",
    "print(f\"Producer Surplus: ${market.producer_surplus:.2f}\")"
   ]
  },
  {
   "cell_type": "markdown",
   "metadata": {},
   "source": [
    "## Visualizing Market Equilibrium\n",
    "\n",
    "FreeRide can plot the market equilibrium with welfare analysis:"
   ]
  },
  {
   "cell_type": "code",
   "execution_count": null,
   "metadata": {},
   "outputs": [],
   "source": [
    "# Plot with shaded surplus areas\n",
    "market.plot(surplus=True)"
   ]
  },
  {
   "cell_type": "markdown",
   "metadata": {},
   "source": [
    "## Understanding Elasticity\n",
    "\n",
    "A common misconception is that slope determines elasticity. Let's compare two demand curves with the same slope but different elasticities:"
   ]
  },
  {
   "cell_type": "code",
   "execution_count": null,
   "metadata": {},
   "outputs": [],
   "source": [
    "# Two demand curves with SAME slope but DIFFERENT elasticities\n",
    "demand1 = Demand.from_formula(\"P = 10 - Q\")\n",
    "demand2 = Demand.from_formula(\"P = 12 - Q\")\n",
    "\n",
    "# Compare elasticities at P = 8\n",
    "elasticity1 = demand1.price_elasticity(8)\n",
    "elasticity2 = demand2.price_elasticity(8)\n",
    "\n",
    "print(f\"At P = $8:\")\n",
    "print(f\"  Demand 1: Q = {demand1.q(8):.0f}, elasticity = {elasticity1:.2f}\")\n",
    "print(f\"  Demand 2: Q = {demand2.q(8):.0f}, elasticity = {elasticity2:.2f}\")\n",
    "\n",
    "# Plot both curves to visualize\n",
    "import matplotlib.pyplot as plt\n",
    "fig, ax = plt.subplots()\n",
    "demand1.plot(ax=ax, label=\"P = 10 - Q\")\n",
    "demand2.plot(ax=ax, label=\"P = 12 - Q\")\n",
    "ax.axhline(8, color='gray', linestyle='--', alpha=0.5, label='P = 8')\n",
    "ax.legend()\n",
    "ax.set_title(\"Same Slope, Different Elasticities\")\n",
    "plt.show()"
   ]
  }
 ],
 "metadata": {
  "kernelspec": {
   "display_name": "Python 3",
   "language": "python",
   "name": "python3"
  },
  "language_info": {
   "codemirror_mode": {
    "name": "ipython",
    "version": 3
   },
   "file_extension": ".py",
   "mimetype": "text/x-python",
   "name": "python",
   "nbconvert_exporter": "python",
   "pygments_lexer": "ipython3",
   "version": "3.8.0"
  }
 },
 "nbformat": 4,
 "nbformat_minor": 4
}
